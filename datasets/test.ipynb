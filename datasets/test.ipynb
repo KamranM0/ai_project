{
 "cells": [
  {
   "cell_type": "code",
   "execution_count": null,
   "metadata": {},
   "outputs": [
    {
     "data": {
      "text/plain": [
       "(<PIL.JpegImagePlugin.JpegImageFile image mode=RGB size=832x624>,\n",
       " tensor([0., 0., 0., 0., 0., 0., 0., 0., 0., 0., 0., 1., 0., 0., 0.],\n",
       "        dtype=torch.float64))"
      ]
     },
     "execution_count": 1,
     "metadata": {},
     "output_type": "execute_result"
    }
   ],
   "source": [
    "from torch.utils.data import Dataset\n",
    "from torch import tensor\n",
    "from os import path,listdir\n",
    "from numpy import zeros\n",
    "from sklearn.model_selection import train_test_split\n",
    "from PIL import Image\n",
    "\n",
    "class Custom_dataset(Dataset):\n",
    "     def __init__(self, mode = \"train\", root = \"datasets/demo_dataset\", transforms = None, test_size=0.2, val_size=0.1, random_state=42):\n",
    "        super().__init__()\n",
    "        self.mode = mode\n",
    "        self.root = root\n",
    "        self.transforms = transforms\n",
    "\n",
    "        absolute_path = path.abspath(root)\n",
    "        self.folder = absolute_path\n",
    "        self.image_list = []\n",
    "        self.label_list = []\n",
    "        self.class_list = listdir(self.folder)\n",
    "        self.class_list.sort()\n",
    "        \n",
    "        for class_id in range(len(self.class_list)):\n",
    "            for image in listdir(path.join(self.folder, self.class_list[class_id])):\n",
    "                self.image_list.append(path.join(self.folder, self.class_list[class_id], image))\n",
    "                label = zeros(len(self.class_list))\n",
    "                label[class_id] = 1.0\n",
    "                self.label_list.append(label)\n",
    "\n",
    "        train_imgs, test_imgs, train_labels, test_labels = train_test_split(\n",
    "            self.image_list, self.label_list, test_size=test_size, random_state=42\n",
    "        )\n",
    "        train_imgs, val_imgs, train_labels, val_labels = train_test_split(\n",
    "            train_imgs, train_labels, test_size=val_size / (1 - test_size), random_state=42\n",
    "        )\n",
    "\n",
    "        if self.mode == \"train\":\n",
    "            self.image_list = train_imgs\n",
    "            self.label_list = train_labels\n",
    "        elif self.mode == \"val\":\n",
    "            self.image_list = val_imgs\n",
    "            self.label_list = val_labels\n",
    "        elif self.mode == \"test\":\n",
    "            self.image_list = test_imgs\n",
    "            self.label_list = test_labels\n",
    "        else:\n",
    "            raise ValueError(\"Invalid mode value. Must be 'train', 'val', or 'test'.\")\n",
    "     def __getitem__(self, index):\n",
    "        image_name = self.image_list[index]\n",
    "        label = self.label_list[index]\n",
    "        \n",
    "        \n",
    "        image = Image.open(image_name)\n",
    "        if(self.transforms):\n",
    "            image = self.transforms(image)\n",
    "        \n",
    "        label = tensor(label)\n",
    "        \n",
    "        return image, label\n",
    "     \n",
    "     def __len__(self):\n",
    "        return len(self.image_list)  \n",
    "train_dataset =  Custom_dataset(root=\"../data/currencyDataset\")\n",
    "train_dataset.__getitem__(2)\n"
   ]
  }
 ],
 "metadata": {
  "kernelspec": {
   "display_name": "myenv",
   "language": "python",
   "name": "python3"
  },
  "language_info": {
   "codemirror_mode": {
    "name": "ipython",
    "version": 3
   },
   "file_extension": ".py",
   "mimetype": "text/x-python",
   "name": "python",
   "nbconvert_exporter": "python",
   "pygments_lexer": "ipython3",
   "version": "3.11.9"
  }
 },
 "nbformat": 4,
 "nbformat_minor": 2
}
